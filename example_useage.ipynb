{
 "cells": [
  {
   "cell_type": "code",
   "execution_count": 1,
   "metadata": {},
   "outputs": [],
   "source": [
    "from IPython.display import HTML"
   ]
  },
  {
   "cell_type": "markdown",
   "metadata": {},
   "source": [
    "# Example useage\n",
    "\n",
    "First import the contorls libary and any baslines you want to use."
   ]
  },
  {
   "cell_type": "code",
   "execution_count": null,
   "metadata": {},
   "outputs": [],
   "source": [
    "from nistsp800_53 import Nist_sp_800_53_r5, Nist_sp_800_53_r4\n",
    "from baselines import baseline_jsig"
   ]
  },
  {
   "cell_type": "markdown",
   "metadata": {},
   "source": [
    "## Create Control Set Object\n",
    "\n",
    "Then create your control set object."
   ]
  },
  {
   "cell_type": "code",
   "execution_count": 3,
   "metadata": {},
   "outputs": [
    {
     "name": "stdout",
     "output_type": "stream",
     "text": [
      "NIST SP800-53 r4 Control set with All controls baseline.\n",
      " Containing 256 controls and 666 control enhancements.\n"
     ]
    }
   ],
   "source": [
    "acme_ltd_SAP_controls = Nist_sp_800_53_r4()\n",
    "acme_ltd_SAP_controls.name = \"Acme Co Standard SAP baseline Security Controls\"\n",
    "print(acme_ltd_SAP_controls)"
   ]
  },
  {
   "cell_type": "markdown",
   "metadata": {},
   "source": [
    "## Load Baseline\n",
    "\n",
    "If using a predefined baseline, load this into your control set. Alternatively, create and load a custom Baseline object to load."
   ]
  },
  {
   "cell_type": "code",
   "execution_count": 4,
   "metadata": {},
   "outputs": [
    {
     "name": "stdout",
     "output_type": "stream",
     "text": [
      "NIST SP800-53 r4 Control set with JSIG baseline.\n",
      " Containing 256 controls and 653 control enhancements.\n"
     ]
    }
   ],
   "source": [
    "acme_ltd_SAP_controls.load_baseline(baseline_jsig)\n",
    "print(acme_ltd_SAP_controls)"
   ]
  },
  {
   "cell_type": "markdown",
   "metadata": {},
   "source": [
    "You can see some controls have been removed by the baseline."
   ]
  },
  {
   "cell_type": "markdown",
   "metadata": {},
   "source": [
    "## Set Options\n",
    "\n",
    "You can then configure your options with the get_outstanding_options and set_option methods.\n",
    "You can repeat over the next two cells until you have set all options, as which point you will get an index out of range error, as there will be no further options to set."
   ]
  },
  {
   "cell_type": "code",
   "execution_count": null,
   "metadata": {},
   "outputs": [
    {
     "data": {
      "text/html": [
       "<!DOCTYPE html>\n",
       "        <html>\n",
       "        <head>\n",
       "            <meta charset=\"UTF-8\">\n",
       "            <title>AC-2 - ACCOUNT MANAGEMENT</title>\n",
       "            \n",
       "        </head>\n",
       "        <body>\n",
       "<style>#AC-2a_Option1 { color: red; }</style>\n",
       "            <h1>AC-2: ACCOUNT MANAGEMENT</h1> \n",
       "            <div class=\"section\" id=\"description\">\n",
       "                <h2>Control Description</h2>\n",
       "                <p>The organization:</p>\n",
       "<ol>\n",
       "<li>\n",
       "<strong>AC-2a.</strong> Identifies and selects the following types of information system accounts to support organizational missions/business functions: <span class=\"option\" id=\"AC-2a_Option1\"> [Assignment: organization-defined information system account types]</span>;\n",
       "</li>\n",
       "<li>\n",
       "<strong>AC-2b.</strong> Assigns account managers for information system accounts;\n",
       "</li>\n",
       "<li>\n",
       "<strong>AC-2c.</strong> Establishes conditions for group and role membership;\n",
       "</li>\n",
       "<li>\n",
       "<strong>AC-2d.</strong> Specifies authorized users of the information system, group and role membership, and access authorizations (i.e., privileges) and other attributes (as required) for each account;\n",
       "</li>\n",
       "<li>\n",
       "<strong>AC-2e.</strong> Requires approvals by <span class=\"option\" id=\"AC-2e_Option1\"> [Assignment: organization-defined personnel or roles]</span> for requests to create information system accounts;\n",
       "</li>\n",
       "<li>\n",
       "<strong>AC-2f.</strong> Creates, enables, modifies, disables, and removes information system accounts in accordance with <span class=\"option\" id=\"AC-2f_Option1\"> [Assignment: organization-defined procedures or conditions]</span>;\n",
       "</li>\n",
       "<li>\n",
       "<strong>AC-2g.</strong> Monitors the use of information system accounts;\n",
       "</li>\n",
       "<li>\n",
       "<strong>AC-2h.</strong> Notifies account managers:\n",
       "<ol>\n",
       "<li>\n",
       "<strong>AC-2h.1.</strong> When accounts are no longer required;\n",
       "</li>\n",
       "<li>\n",
       "<strong>AC-2h.2.</strong> When users are terminated or transferred; and\n",
       "</li>\n",
       "<li>\n",
       "<strong>AC-2h.3.</strong> When individual information system usage or need-to-know changes;\n",
       "</li>\n",
       "</ol>\n",
       "</li>\n",
       "<li>\n",
       "<strong>AC-2i.</strong> Authorizes access to the information system based on:\n",
       "<ol>\n",
       "<li>\n",
       "<strong>AC-2i.1.</strong> A valid access authorization;\n",
       "</li>\n",
       "<li>\n",
       "<strong>AC-2i.2.</strong> Intended system usage; and\n",
       "</li>\n",
       "<li>\n",
       "<strong>AC-2i.3.</strong> Other attributes as required by the organization or associated missions/business functions;\n",
       "</li>\n",
       "</ol>\n",
       "</li>\n",
       "<li>\n",
       "<strong>AC-2j.</strong> Reviews accounts for compliance with account management requirements <span class=\"option\" id=\"AC-2j_Option1\"> [Assignment: organization-defined frequency]</span>; and\n",
       "</li>\n",
       "<li>\n",
       "<strong>AC-2k.</strong> Establishes a process for reissuing shared/group account credentials (if deployed) when individuals are removed from the group.\n",
       "</li>\n",
       "</ol>\n",
       "\n",
       "            </div>\n",
       "            \n",
       "            \n",
       "            \n",
       "            \n",
       "            \n",
       "        <div class=\"section\" id=\"enhancements\">\n",
       "            <h2>Control Enhancements</h2>\n",
       "            <ul>\n",
       "                <li><strong>AC-2 (1) - AUTOMATED SYSTEM ACCOUNT MANAGEMENT</strong> <p><p>The organization employs automated mechanisms to support the management of information system accounts.</p>\n",
       "</p></li> <li><strong>AC-2 (2) - REMOVAL OF TEMPORARY / EMERGENCY ACCOUNTS</strong> <p><p>The information system automatically <span class=\"option\" id=\"AC-2 (2)_Option1\"> [Selection: removes; disables]</span> temporary and emergency accounts after <span class=\"option\" id=\"AC-2 (2)_Option2\"> [Assignment: organization-defined time period for each type of account]</span>.</p>\n",
       "</p></li> <li><strong>AC-2 (3) - DISABLE INACTIVE ACCOUNTS</strong> <p><p>The information system automatically disables inactive accounts after <span class=\"option\" id=\"AC-2 (3)_Option1\"> [Assignment: organization-defined time period]</span>.</p>\n",
       "</p></li> <li><strong>AC-2 (4) - AUTOMATED AUDIT ACTIONS</strong> <p><p>The information system automatically audits account creation, modification, enabling, disabling, and removal actions, and notifies <span class=\"option\" id=\"AC-2 (4)_Option1\"> [Assignment: organization-defined personnel or roles]</span>.</p>\n",
       "</p></li> <li><strong>AC-2 (5) - INACTIVITY LOGOUT</strong> <p><p>The organization requires that users log out when <span class=\"option\" id=\"AC-2 (5)_Option1\"> [Assignment: organization-defined time-period of expected inactivity or description of when to log out]</span>.</p>\n",
       "</p></li> <li><strong>AC-2 (6) - DYNAMIC PRIVILEGE MANAGEMENT</strong> <p><p>The information system implements the following dynamic privilege management capabilities: <span class=\"option\" id=\"AC-2 (6)_Option1\"> [Assignment: organization-defined list of dynamic privilege management capabilities]</span>.</p>\n",
       "</p></li> <li><strong>AC-2 (7) - ROLE-BASED SCHEMES</strong> <p><p>The organization:</p>\n",
       "<ol>\n",
       "<li>\n",
       "<strong>AC-2 (7)(a)</strong> Establishes and administers privileged user accounts in accordance with a role-based access scheme that organizes allowed information system access and privileges into roles;\n",
       "</li>\n",
       "<li>\n",
       "<strong>AC-2 (7)(b)</strong> Monitors privileged role assignments; and\n",
       "</li>\n",
       "<li>\n",
       "<strong>AC-2 (7)(c)</strong> Takes <span class=\"option\" id=\"AC-2 (7)(c)_Option1\"> [Assignment: organization-defined actions]</span> when privileged role assignments are no longer appropriate.\n",
       "</li>\n",
       "</ol>\n",
       "</p></li> <li><strong>AC-2 (8) - DYNAMIC ACCOUNT CREATION</strong> <p><p>The information system creates <span class=\"option\" id=\"AC-2 (8)_Option1\"> [Assignment: organization-defined information system accounts]</span> dynamically.</p>\n",
       "</p></li> <li><strong>AC-2 (9) - RESTRICTIONS ON USE OF SHARED / GROUP ACCOUNTS</strong> <p><p>The organization only permits the use of shared/group accounts that meet <span class=\"option\" id=\"AC-2 (9)_Option1\"> [Assignment: organization-defined conditions for establishing shared/group accounts]</span>.</p>\n",
       "</p></li> <li><strong>AC-2 (10) - SHARED / GROUP ACCOUNT CREDENTIAL TERMINATION</strong> <p><p>The information system terminates shared/group account credentials when members leave the group.</p>\n",
       "</p></li> <li><strong>AC-2 (11) - USAGE CONDITIONS</strong> <p><p>The information system enforces <span class=\"option\" id=\"AC-2 (11)_Option1\"> [Assignment: organization-defined circumstances and/or usage conditions]</span> for <span class=\"option\" id=\"AC-2 (11)_Option2\"> [Assignment: organization-defined information system accounts]</span>.</p>\n",
       "</p></li> <li><strong>AC-2 (12) - ACCOUNT MONITORING / ATYPICAL USAGE</strong> <p><p>The organization:</p>\n",
       "<ol>\n",
       "<li>\n",
       "<strong>AC-2 (12)(a)</strong> Monitors information system accounts for <span class=\"option\" id=\"AC-2 (12)(a)_Option1\"> [Assignment: organization-defined atypical usage]</span>; and\n",
       "</li>\n",
       "<li>\n",
       "<strong>AC-2 (12)(b)</strong> Reports atypical usage of information system accounts to <span class=\"option\" id=\"AC-2 (12)(b)_Option1\"> [Assignment: organization-defined personnel or roles]</span>.\n",
       "</li>\n",
       "</ol>\n",
       "</p></li> <li><strong>AC-2 (13) - DISABLE ACCOUNTS FOR HIGH-RISK INDIVIDUALS</strong> <p><p>The organization disables accounts of users posing a significant risk within <span class=\"option\" id=\"AC-2 (13)_Option1\"> [Assignment: organization-defined time period]</span> of discovery of the risk.</p>\n",
       "</p></li>\n",
       "            <ul>                \n",
       "        </div>\n",
       "        \n",
       "        \n",
       "            \n",
       "            \n",
       "        <div class=\"section\" id=\"baselines\">\n",
       "            <h2>Baselines</h2>\n",
       "            <p>LOW, MODERATE, HIGH</p>\n",
       "        </div>\n",
       "        \n",
       "        </body>\n",
       "        </html>\n",
       "        "
      ],
      "text/plain": [
       "<IPython.core.display.HTML object>"
      ]
     },
     "execution_count": 11,
     "metadata": {},
     "output_type": "execute_result"
    }
   ],
   "source": [
    "def generate_inline_css(id_string):\n",
    "    return f\"<style>#{id_string} {{ color: red; }}</style>\"\n",
    "\n",
    "next_option = acme_ltd_SAP_controls.get_outstanding_options()[0]\n",
    "option_id = next_option['id']\n",
    "control_id = next_option['control_id']\n",
    "\n",
    "HTML(acme_ltd_SAP_controls.controls[control_id].get_control_html().replace('<body>', f'<body>\\n{generate_inline_css(option_id)}'))"
   ]
  },
  {
   "cell_type": "code",
   "execution_count": 10,
   "metadata": {},
   "outputs": [],
   "source": [
    "new_option_text = input()\n",
    "acme_ltd_SAP_controls.controls[control_id].set_option(option_id, new_option_text)"
   ]
  },
  {
   "cell_type": "markdown",
   "metadata": {},
   "source": [
    "## View Your Controls\n",
    "\n",
    "You can then use the get_control_text, get_control_markdown or get_control_html methods to view your formatted controls, and use the output for a document, pdf or internal Wiki."
   ]
  },
  {
   "cell_type": "code",
   "execution_count": 7,
   "metadata": {},
   "outputs": [
    {
     "name": "stdout",
     "output_type": "stream",
     "text": [
      "The organization:\n",
      "    AC-1a.   Develops, documents, and disseminates to TEST TEXT:\n",
      "        AC-1a.1.     An access control policy that addresses purpose, scope, roles, responsibilities, management commitment, coordination among organizational entities, and compliance; and\n",
      "        AC-1a.2.     Procedures to facilitate the implementation of the access control policy and associated access controls; and\n",
      "    AC-1b.   Reviews and updates the current:\n",
      "        AC-1b.1.     Access control policy [Assignment: organization-defined frequency]; and\n",
      "        AC-1b.2.     Access control procedures [Assignment: organization-defined frequency].\n",
      "\n"
     ]
    }
   ],
   "source": [
    "print(acme_ltd_SAP_controls.controls['AC-1'].get_control_text())"
   ]
  },
  {
   "cell_type": "code",
   "execution_count": 8,
   "metadata": {},
   "outputs": [
    {
     "name": "stdout",
     "output_type": "stream",
     "text": [
      "    - **AC-1a.** Develops, documents, and disseminates to TEST TEXT:\n",
      "        - **AC-1a.1.** An access control policy that addresses purpose, scope, roles, responsibilities, management commitment, coordination among organizational entities, and compliance; and\n",
      "        - **AC-1a.2.** Procedures to facilitate the implementation of the access control policy and associated access controls; and\n",
      "    - **AC-1b.** Reviews and updates the current:\n",
      "        - **AC-1b.1.** Access control policy [Assignment: organization-defined frequency]; and\n",
      "        - **AC-1b.2.** Access control procedures [Assignment: organization-defined frequency].\n",
      "\n"
     ]
    }
   ],
   "source": [
    "print(acme_ltd_SAP_controls.controls['AC-1'].get_control_markdown())"
   ]
  },
  {
   "cell_type": "code",
   "execution_count": 12,
   "metadata": {},
   "outputs": [
    {
     "data": {
      "text/html": [
       "<!DOCTYPE html>\n",
       "        <html>\n",
       "        <head>\n",
       "            <meta charset=\"UTF-8\">\n",
       "            <title>AC-1 - ACCESS CONTROL POLICY AND PROCEDURES</title>\n",
       "            \n",
       "        </head>\n",
       "        <body>\n",
       "            <h1>AC-1: ACCESS CONTROL POLICY AND PROCEDURES</h1> \n",
       "            <div class=\"section\" id=\"description\">\n",
       "                <h2>Control Description</h2>\n",
       "                <p>The organization:</p>\n",
       "<ol>\n",
       "<li>\n",
       "<strong>AC-1a.</strong> Develops, documents, and disseminates to <span class=\"option\" id=\"AC-1a_Option1\"> organisation via publicaation on BMS</span>:\n",
       "<ol>\n",
       "<li>\n",
       "<strong>AC-1a.1.</strong> An access control policy that addresses purpose, scope, roles, responsibilities, management commitment, coordination among organizational entities, and compliance; and\n",
       "</li>\n",
       "<li>\n",
       "<strong>AC-1a.2.</strong> Procedures to facilitate the implementation of the access control policy and associated access controls; and\n",
       "</li>\n",
       "</ol>\n",
       "</li>\n",
       "<li>\n",
       "<strong>AC-1b.</strong> Reviews and updates the current:\n",
       "<ol>\n",
       "<li>\n",
       "<strong>AC-1b.1.</strong> Access control policy <span class=\"option\" id=\"AC-1b1_Option1\"> annualy</span>; and\n",
       "</li>\n",
       "<li>\n",
       "<strong>AC-1b.2.</strong> Access control procedures <span class=\"option\" id=\"AC-1b2_Option1\"> annualy</span>.\n",
       "</li>\n",
       "</ol>\n",
       "</li>\n",
       "</ol>\n",
       "\n",
       "            </div>\n",
       "            \n",
       "            \n",
       "            \n",
       "            \n",
       "            \n",
       "            \n",
       "            \n",
       "        <div class=\"section\" id=\"baselines\">\n",
       "            <h2>Baselines</h2>\n",
       "            <p>LOW, MODERATE, HIGH</p>\n",
       "        </div>\n",
       "        \n",
       "        </body>\n",
       "        </html>\n",
       "        "
      ],
      "text/plain": [
       "<IPython.core.display.HTML object>"
      ]
     },
     "execution_count": 12,
     "metadata": {},
     "output_type": "execute_result"
    }
   ],
   "source": [
    "HTML(acme_ltd_SAP_controls.controls['AC-1'].get_control_html())"
   ]
  },
  {
   "cell_type": "markdown",
   "metadata": {},
   "source": [
    "## Export Controls as HTML Document Set\n",
    "\n",
    "You export the controls locally as an set of HTML documents. You cna add an optional scc style sheet. "
   ]
  },
  {
   "cell_type": "code",
   "execution_count": 13,
   "metadata": {},
   "outputs": [],
   "source": [
    "acme_ltd_SAP_controls.export_html_docset(stylesheet_path=\"example_stylesheet.css\", output_path=\"example_docs\")"
   ]
  }
 ],
 "metadata": {
  "kernelspec": {
   "display_name": "NIST_SP800-53-wkA-0P5B",
   "language": "python",
   "name": "python3"
  },
  "language_info": {
   "codemirror_mode": {
    "name": "ipython",
    "version": 3
   },
   "file_extension": ".py",
   "mimetype": "text/x-python",
   "name": "python",
   "nbconvert_exporter": "python",
   "pygments_lexer": "ipython3",
   "version": "3.9.16"
  }
 },
 "nbformat": 4,
 "nbformat_minor": 2
}
