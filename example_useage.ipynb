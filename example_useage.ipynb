{
 "cells": [
  {
   "cell_type": "code",
   "execution_count": 1,
   "metadata": {},
   "outputs": [],
   "source": [
    "from IPython.display import HTML"
   ]
  },
  {
   "cell_type": "markdown",
   "metadata": {},
   "source": [
    "# Example useage\n",
    "\n",
    "First import the contorls libary and any baslines you want to use."
   ]
  },
  {
   "cell_type": "code",
   "execution_count": 2,
   "metadata": {},
   "outputs": [],
   "source": [
    "from nistsp800_53 import Nist_sp_800_53_r5, Nist_sp_800_53_r4\n",
    "from baselines import baseline_jsig"
   ]
  },
  {
   "cell_type": "markdown",
   "metadata": {},
   "source": [
    "## Create Control Set Object\n",
    "\n",
    "Then create your control set object."
   ]
  },
  {
   "cell_type": "code",
   "execution_count": 3,
   "metadata": {},
   "outputs": [
    {
     "name": "stdout",
     "output_type": "stream",
     "text": [
      "NIST SP800-53 r4 Control set with All controls baseline.\n",
      " Containing 256 controls and 666 control enhancements.\n"
     ]
    }
   ],
   "source": [
    "acme_ltd_SAP_controls = Nist_sp_800_53_r4()\n",
    "acme_ltd_SAP_controls.name = \"Acme Co Standard SAP baseline Security Controls\"\n",
    "print(acme_ltd_SAP_controls)"
   ]
  },
  {
   "cell_type": "markdown",
   "metadata": {},
   "source": [
    "## Load Baseline\n",
    "\n",
    "If using a predefined baseline, load this into your control set. Alternatively, create and load a custom Baseline object to load."
   ]
  },
  {
   "cell_type": "code",
   "execution_count": 4,
   "metadata": {},
   "outputs": [
    {
     "name": "stdout",
     "output_type": "stream",
     "text": [
      "NIST SP800-53 r4 Control set with JSIG baseline.\n",
      " Containing 256 controls and 653 control enhancements.\n"
     ]
    }
   ],
   "source": [
    "acme_ltd_SAP_controls.load_baseline(baseline_jsig)\n",
    "print(acme_ltd_SAP_controls)"
   ]
  },
  {
   "cell_type": "markdown",
   "metadata": {},
   "source": [
    "You can see some controls have been removed by the baseline."
   ]
  },
  {
   "cell_type": "markdown",
   "metadata": {},
   "source": [
    "## Set Options\n",
    "\n",
    "You can then configure your options with the get_outstanding_options and set_option methods.\n",
    "You can repeat over the next two cells until you have set all options, as which point you will get an index out of range error, as there will be no further options to set."
   ]
  },
  {
   "cell_type": "code",
   "execution_count": 5,
   "metadata": {},
   "outputs": [
    {
     "data": {
      "text/html": [
       "<!DOCTYPE html>\n",
       "        <html>\n",
       "        <head>\n",
       "            <meta charset=\"UTF-8\">\n",
       "            <title>AC-1 - ACCESS CONTROL POLICY AND PROCEDURES</title>\n",
       "            \n",
       "        </head>\n",
       "        <body>\n",
       "<style>#AC-1a_Option1 { color: red; }</style>\n",
       "            <h1>AC-1: ACCESS CONTROL POLICY AND PROCEDURES</h1> \n",
       "            <div class=\"section\" id=\"description\">\n",
       "                <h2>Control Description</h2>\n",
       "                <p>The organization:</p>\n",
       "<ol>\n",
       "<li>\n",
       "<strong>AC-1a.</strong> Develops, documents, and disseminates to <span class=\"option\" id=\"AC-1a_Option1\"> [Assignment: organization-defined personnel or roles]</span>:\n",
       "<ol>\n",
       "<li>\n",
       "<strong>AC-1a.1.</strong> An access control policy that addresses purpose, scope, roles, responsibilities, management commitment, coordination among organizational entities, and compliance; and\n",
       "</li>\n",
       "<li>\n",
       "<strong>AC-1a.2.</strong> Procedures to facilitate the implementation of the access control policy and associated access controls; and\n",
       "</li>\n",
       "</ol>\n",
       "</li>\n",
       "<li>\n",
       "<strong>AC-1b.</strong> Reviews and updates the current:\n",
       "<ol>\n",
       "<li>\n",
       "<strong>AC-1b.1.</strong> Access control policy <span class=\"option\" id=\"AC-1b1_Option1\"> [Assignment: organization-defined frequency]</span>; and\n",
       "</li>\n",
       "<li>\n",
       "<strong>AC-1b.2.</strong> Access control procedures <span class=\"option\" id=\"AC-1b2_Option1\"> [Assignment: organization-defined frequency]</span>.\n",
       "</li>\n",
       "</ol>\n",
       "</li>\n",
       "</ol>\n",
       "\n",
       "            </div>\n",
       "            \n",
       "            \n",
       "            \n",
       "        <div class=\"section\" id=\"guidance\">\n",
       "            <h2>Supplemental Guidance</h2>\n",
       "            <p>This control addresses the establishment of policy and procedures for the effective implementation of selected security controls and control enhancements in the AC family. Policy and procedures reflect applicable federal laws, Executive Orders, directives, regulations, policies, standards, and guidance. Security program policies and procedures at the organization level may make the need for system-specific policies and procedures unnecessary. The policy can be included as part of the general information security policy for organizations or conversely, can be represented by multiple policies reflecting the complex nature of certain organizations. The procedures can be established for the security program in general and for particular information systems, if needed. The organizational risk management strategy is a key factor in establishing policy and procedures.</p>\n",
       "        </div>\n",
       "        \n",
       "            \n",
       "            \n",
       "        <div class=\"section\" id=\"related\">\n",
       "            <h2>Related Controls</h2>\n",
       "            <a href=\"./PM-9.html\">PM-9</a>\n",
       "        </div>\n",
       "        \n",
       "            \n",
       "            \n",
       "            \n",
       "            \n",
       "        <div class=\"section\" id=\"baselines\">\n",
       "            <h2>Baselines</h2>\n",
       "            <p>LOW, MODERATE, HIGH</p>\n",
       "        </div>\n",
       "        \n",
       "            \n",
       "            \n",
       "        </body>\n",
       "        </html>\n",
       "        "
      ],
      "text/plain": [
       "<IPython.core.display.HTML object>"
      ]
     },
     "execution_count": 5,
     "metadata": {},
     "output_type": "execute_result"
    }
   ],
   "source": [
    "def generate_inline_css(id_string: str) -> str:\n",
    "    id_string = id_string.replace(\"(\", \"\\(\").replace(\")\", \"\\)\")\n",
    "    return f\"<style>#{id_string} {{ color: red; }}</style>\"\n",
    "\n",
    "next_option = acme_ltd_SAP_controls.get_outstanding_options()[0]\n",
    "option_id = next_option['id']\n",
    "control_id = next_option['control_id']\n",
    "\n",
    "\n",
    "HTML(acme_ltd_SAP_controls.get_control(control_id).get_control_html().replace('<body>', f'<body>\\n{generate_inline_css(option_id)}'))"
   ]
  },
  {
   "cell_type": "code",
   "execution_count": 6,
   "metadata": {},
   "outputs": [],
   "source": [
    "new_option_text = input()\n",
    "acme_ltd_SAP_controls.controls[control_id].set_option(option_id, new_option_text)"
   ]
  },
  {
   "cell_type": "markdown",
   "metadata": {},
   "source": [
    "## View Your Controls\n",
    "\n",
    "You can then use the get_control_text, get_control_markdown or get_control_html methods to view your formatted controls, and use the output for a document, pdf or internal Wiki."
   ]
  },
  {
   "cell_type": "code",
   "execution_count": 7,
   "metadata": {},
   "outputs": [
    {
     "name": "stdout",
     "output_type": "stream",
     "text": [
      "The organization:\n",
      "    AC-1a.   Develops, documents, and disseminates to TEST TEXT:\n",
      "        AC-1a.1.     An access control policy that addresses purpose, scope, roles, responsibilities, management commitment, coordination among organizational entities, and compliance; and\n",
      "        AC-1a.2.     Procedures to facilitate the implementation of the access control policy and associated access controls; and\n",
      "    AC-1b.   Reviews and updates the current:\n",
      "        AC-1b.1.     Access control policy [Assignment: organization-defined frequency]; and\n",
      "        AC-1b.2.     Access control procedures [Assignment: organization-defined frequency].\n",
      "\n"
     ]
    }
   ],
   "source": [
    "print(acme_ltd_SAP_controls.controls['AC-1'].get_control_text())"
   ]
  },
  {
   "cell_type": "code",
   "execution_count": 8,
   "metadata": {},
   "outputs": [
    {
     "name": "stdout",
     "output_type": "stream",
     "text": [
      "    - **AC-1a.** Develops, documents, and disseminates to TEST TEXT:\n",
      "        - **AC-1a.1.** An access control policy that addresses purpose, scope, roles, responsibilities, management commitment, coordination among organizational entities, and compliance; and\n",
      "        - **AC-1a.2.** Procedures to facilitate the implementation of the access control policy and associated access controls; and\n",
      "    - **AC-1b.** Reviews and updates the current:\n",
      "        - **AC-1b.1.** Access control policy [Assignment: organization-defined frequency]; and\n",
      "        - **AC-1b.2.** Access control procedures [Assignment: organization-defined frequency].\n",
      "\n"
     ]
    }
   ],
   "source": [
    "print(acme_ltd_SAP_controls.controls['AC-1'].get_control_markdown())"
   ]
  },
  {
   "cell_type": "code",
   "execution_count": 9,
   "metadata": {},
   "outputs": [
    {
     "data": {
      "text/html": [
       "<!DOCTYPE html>\n",
       "        <html>\n",
       "        <head>\n",
       "            <meta charset=\"UTF-8\">\n",
       "            <title>AC-1 - ACCESS CONTROL POLICY AND PROCEDURES</title>\n",
       "            \n",
       "        </head>\n",
       "        <body>\n",
       "            <h1>AC-1: ACCESS CONTROL POLICY AND PROCEDURES</h1> \n",
       "            <div class=\"section\" id=\"description\">\n",
       "                <h2>Control Description</h2>\n",
       "                <p>The organization:</p>\n",
       "<ol>\n",
       "<li>\n",
       "<strong>AC-1a.</strong> Develops, documents, and disseminates to <span class=\"option\" id=\"AC-1a_Option1\"> TEST TEXT</span>:\n",
       "<ol>\n",
       "<li>\n",
       "<strong>AC-1a.1.</strong> An access control policy that addresses purpose, scope, roles, responsibilities, management commitment, coordination among organizational entities, and compliance; and\n",
       "</li>\n",
       "<li>\n",
       "<strong>AC-1a.2.</strong> Procedures to facilitate the implementation of the access control policy and associated access controls; and\n",
       "</li>\n",
       "</ol>\n",
       "</li>\n",
       "<li>\n",
       "<strong>AC-1b.</strong> Reviews and updates the current:\n",
       "<ol>\n",
       "<li>\n",
       "<strong>AC-1b.1.</strong> Access control policy <span class=\"option\" id=\"AC-1b1_Option1\"> [Assignment: organization-defined frequency]</span>; and\n",
       "</li>\n",
       "<li>\n",
       "<strong>AC-1b.2.</strong> Access control procedures <span class=\"option\" id=\"AC-1b2_Option1\"> [Assignment: organization-defined frequency]</span>.\n",
       "</li>\n",
       "</ol>\n",
       "</li>\n",
       "</ol>\n",
       "\n",
       "            </div>\n",
       "            \n",
       "            \n",
       "            \n",
       "        <div class=\"section\" id=\"guidance\">\n",
       "            <h2>Supplemental Guidance</h2>\n",
       "            <p>This control addresses the establishment of policy and procedures for the effective implementation of selected security controls and control enhancements in the AC family. Policy and procedures reflect applicable federal laws, Executive Orders, directives, regulations, policies, standards, and guidance. Security program policies and procedures at the organization level may make the need for system-specific policies and procedures unnecessary. The policy can be included as part of the general information security policy for organizations or conversely, can be represented by multiple policies reflecting the complex nature of certain organizations. The procedures can be established for the security program in general and for particular information systems, if needed. The organizational risk management strategy is a key factor in establishing policy and procedures.</p>\n",
       "        </div>\n",
       "        \n",
       "            \n",
       "            \n",
       "        <div class=\"section\" id=\"related\">\n",
       "            <h2>Related Controls</h2>\n",
       "            <a href=\"./PM-9.html\">PM-9</a>\n",
       "        </div>\n",
       "        \n",
       "            \n",
       "            \n",
       "            \n",
       "            \n",
       "        <div class=\"section\" id=\"baselines\">\n",
       "            <h2>Baselines</h2>\n",
       "            <p>LOW, MODERATE, HIGH</p>\n",
       "        </div>\n",
       "        \n",
       "            \n",
       "            \n",
       "        </body>\n",
       "        </html>\n",
       "        "
      ],
      "text/plain": [
       "<IPython.core.display.HTML object>"
      ]
     },
     "execution_count": 9,
     "metadata": {},
     "output_type": "execute_result"
    }
   ],
   "source": [
    "HTML(acme_ltd_SAP_controls.controls['AC-1'].get_control_html())"
   ]
  },
  {
   "cell_type": "markdown",
   "metadata": {},
   "source": [
    "## Export Controls as HTML Document Set\n",
    "\n",
    "You export the controls locally as an set of HTML documents. You cna add an optional scc style sheet. "
   ]
  },
  {
   "cell_type": "code",
   "execution_count": 10,
   "metadata": {},
   "outputs": [],
   "source": [
    "acme_ltd_SAP_controls.export_html_docset(stylesheet_path=\"example_stylesheet.css\", output_path=\"example_docs\")"
   ]
  }
 ],
 "metadata": {
  "kernelspec": {
   "display_name": "NIST_SP800-53-wkA-0P5B",
   "language": "python",
   "name": "python3"
  },
  "language_info": {
   "codemirror_mode": {
    "name": "ipython",
    "version": 3
   },
   "file_extension": ".py",
   "mimetype": "text/x-python",
   "name": "python",
   "nbconvert_exporter": "python",
   "pygments_lexer": "ipython3",
   "version": "3.9.16"
  }
 },
 "nbformat": 4,
 "nbformat_minor": 2
}
