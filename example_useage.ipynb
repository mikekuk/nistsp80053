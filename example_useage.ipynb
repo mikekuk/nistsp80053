{
 "cells": [
  {
   "cell_type": "markdown",
   "metadata": {},
   "source": [
    "# Example useage\n",
    "\n",
    "First import the contorls libary and any baslines you want to use."
   ]
  },
  {
   "cell_type": "code",
   "execution_count": 10,
   "metadata": {},
   "outputs": [],
   "source": [
    "from nistsp800_53 import Nist_sp_800_53_r5, Nist_sp_800_53_r4\n",
    "from baselines import baseline_jsig"
   ]
  },
  {
   "cell_type": "markdown",
   "metadata": {},
   "source": [
    "## Create Control Set Object\n",
    "\n",
    "Then create your control set object."
   ]
  },
  {
   "cell_type": "code",
   "execution_count": 2,
   "metadata": {},
   "outputs": [
    {
     "name": "stdout",
     "output_type": "stream",
     "text": [
      "NIST SP800-53 r4 Control set with All controls baseline.\n",
      " Containing 256 controls and 637 control enhancements.\n"
     ]
    }
   ],
   "source": [
    "acme_ltd_SAP_controls = Nist_sp_800_53_r4()\n",
    "print(acme_ltd_SAP_controls)"
   ]
  },
  {
   "cell_type": "markdown",
   "metadata": {},
   "source": [
    "## Load Baseline\n",
    "\n",
    "If using a predefined baseline, load this into your control set. Alternatively, create and load a custom Baseline object to load."
   ]
  },
  {
   "cell_type": "code",
   "execution_count": 3,
   "metadata": {},
   "outputs": [
    {
     "name": "stdout",
     "output_type": "stream",
     "text": [
      "NIST SP800-53 r4 Control set with JSIG baseline.\n",
      " Containing 256 controls and 626 control enhancements.\n"
     ]
    }
   ],
   "source": [
    "acme_ltd_SAP_controls.load_baseline(baseline_jsig)\n",
    "print(acme_ltd_SAP_controls)"
   ]
  },
  {
   "cell_type": "markdown",
   "metadata": {},
   "source": [
    "You can see some controls have been removed by the baseline."
   ]
  },
  {
   "cell_type": "markdown",
   "metadata": {},
   "source": [
    "## Set Options\n",
    "\n",
    "You can then configure your options with the get_outstanding_options and set_option methods.\n",
    "You can repeat over the next two cells until you have set all options, as which point you will get an index out of range error, as there will be no further options to set."
   ]
  },
  {
   "cell_type": "code",
   "execution_count": 4,
   "metadata": {},
   "outputs": [
    {
     "name": "stdout",
     "output_type": "stream",
     "text": [
      "AC-1\n",
      "AC-1a_Option1\n",
      "\n",
      " ---- \n",
      "\n",
      "The organization:\n",
      "    AC-1a.   Develops, documents, and disseminates to [Assignment: organization-defined personnel or roles]:\n",
      "        AC-1a.1.     An access control policy that addresses purpose, scope, roles, responsibilities, management commitment, coordination among organizational entities, and compliance; and\n",
      "        AC-1a.2.     Procedures to facilitate the implementation of the access control policy and associated access controls; and\n",
      "    AC-1b.   Reviews and updates the current:\n",
      "        AC-1b.1.     Access control policy [Assignment: organization-defined frequency]; and\n",
      "        AC-1b.2.     Access control procedures [Assignment: organization-defined frequency].\n",
      "\n"
     ]
    }
   ],
   "source": [
    "next_option = acme_ltd_SAP_controls.get_outstanding_options(add_context=True)[0]\n",
    "option_id = next_option['id']\n",
    "control_id = next_option['control_id']\n",
    "\n",
    "print(control_id)\n",
    "print(option_id)\n",
    "print('\\n ---- \\n')\n",
    "print(next_option['Context'])"
   ]
  },
  {
   "cell_type": "code",
   "execution_count": 5,
   "metadata": {},
   "outputs": [],
   "source": [
    "new_option_text = input()\n",
    "acme_ltd_SAP_controls.controls[control_id].set_option(option_id, new_option_text)"
   ]
  },
  {
   "cell_type": "markdown",
   "metadata": {},
   "source": [
    "## View Your Controls\n",
    "\n",
    "You can then use the get_control_text or get_control_markdown methods to view your formatted controls, and use the output for a document, pdf or internal Wiki."
   ]
  },
  {
   "cell_type": "code",
   "execution_count": 7,
   "metadata": {},
   "outputs": [
    {
     "name": "stdout",
     "output_type": "stream",
     "text": [
      "The organization:\n",
      "    AC-1a.   Develops, documents, and disseminates to Test text:\n",
      "        AC-1a.1.     An access control policy that addresses purpose, scope, roles, responsibilities, management commitment, coordination among organizational entities, and compliance; and\n",
      "        AC-1a.2.     Procedures to facilitate the implementation of the access control policy and associated access controls; and\n",
      "    AC-1b.   Reviews and updates the current:\n",
      "        AC-1b.1.     Access control policy [Assignment: organization-defined frequency]; and\n",
      "        AC-1b.2.     Access control procedures [Assignment: organization-defined frequency].\n",
      "\n"
     ]
    }
   ],
   "source": [
    "print(acme_ltd_SAP_controls.controls['AC-1'].get_control_text())"
   ]
  },
  {
   "cell_type": "code",
   "execution_count": 9,
   "metadata": {},
   "outputs": [
    {
     "name": "stdout",
     "output_type": "stream",
     "text": [
      "    - **AC-2a.** Identifies and selects the following types of information system accounts to support organizational missions/business functions: [Assignment: organization-defined information system account types];\n",
      "    - **AC-2b.** Assigns account managers for information system accounts;\n",
      "    - **AC-2c.** Establishes conditions for group and role membership;\n",
      "    - **AC-2d.** Specifies authorized users of the information system, group and role membership, and access authorizations (i.e., privileges) and other attributes (as required) for each account;\n",
      "    - **AC-2e.** Requires approvals by [Assignment: organization-defined personnel or roles] for requests to create information system accounts;\n",
      "    - **AC-2f.** Creates, enables, modifies, disables, and removes information system accounts in accordance with [Assignment: organization-defined procedures or conditions];\n",
      "    - **AC-2g.** Monitors the use of information system accounts;\n",
      "    - **AC-2h.** Notifies account managers:\n",
      "        - **AC-2h.1.** When accounts are no longer required;\n",
      "        - **AC-2h.2.** When users are terminated or transferred; and\n",
      "        - **AC-2h.3.** When individual information system usage or need-to-know changes;\n",
      "    - **AC-2i.** Authorizes access to the information system based on:\n",
      "        - **AC-2i.1.** A valid access authorization;\n",
      "        - **AC-2i.2.** Intended system usage; and\n",
      "        - **AC-2i.3.** Other attributes as required by the organization or associated missions/business functions;\n",
      "    - **AC-2j.** Reviews accounts for compliance with account management requirements [Assignment: organization-defined frequency]; and\n",
      "    - **AC-2k.** Establishes a process for reissuing shared/group account credentials (if deployed) when individuals are removed from the group.\n",
      "\n"
     ]
    }
   ],
   "source": [
    "print(acme_ltd_SAP_controls.controls['AC-2'].get_control_markdown())"
   ]
  }
 ],
 "metadata": {
  "kernelspec": {
   "display_name": "NIST_SP800-53-wkA-0P5B",
   "language": "python",
   "name": "python3"
  },
  "language_info": {
   "codemirror_mode": {
    "name": "ipython",
    "version": 3
   },
   "file_extension": ".py",
   "mimetype": "text/x-python",
   "name": "python",
   "nbconvert_exporter": "python",
   "pygments_lexer": "ipython3",
   "version": "3.9.16"
  }
 },
 "nbformat": 4,
 "nbformat_minor": 2
}
