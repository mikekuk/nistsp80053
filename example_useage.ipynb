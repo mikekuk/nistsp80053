{
 "cells": [
  {
   "cell_type": "code",
   "execution_count": 1,
   "metadata": {},
   "outputs": [],
   "source": [
    "from IPython.display import HTML"
   ]
  },
  {
   "cell_type": "markdown",
   "metadata": {},
   "source": [
    "# Example useage\n",
    "\n",
    "First import the contorls libary and any baslines you want to use."
   ]
  },
  {
   "cell_type": "code",
   "execution_count": 2,
   "metadata": {},
   "outputs": [],
   "source": [
    "from nistsp800_53 import Nist_sp_800_53_r5, Nist_sp_800_53_r4\n",
    "from baselines import baseline_jsig"
   ]
  },
  {
   "cell_type": "markdown",
   "metadata": {},
   "source": [
    "## Create Control Set Object\n",
    "\n",
    "Then create your control set object."
   ]
  },
  {
   "cell_type": "code",
   "execution_count": 3,
   "metadata": {},
   "outputs": [
    {
     "name": "stdout",
     "output_type": "stream",
     "text": [
      "NIST SP800-53 r4 Control set with All controls baseline.\n",
      " Containing 256 controls and 666 control enhancements.\n"
     ]
    }
   ],
   "source": [
    "acme_ltd_SAP_controls = Nist_sp_800_53_r4()\n",
    "acme_ltd_SAP_controls.name = \"Acme Co Standard IT baseline Security Controls\"\n",
    "print(acme_ltd_SAP_controls)"
   ]
  },
  {
   "cell_type": "markdown",
   "metadata": {},
   "source": [
    "## Load Baseline\n",
    "\n",
    "If using a predefined baseline, load this into your control set. Alternatively, create and load a custom Baseline object to load."
   ]
  },
  {
   "cell_type": "code",
   "execution_count": 4,
   "metadata": {},
   "outputs": [
    {
     "name": "stdout",
     "output_type": "stream",
     "text": [
      "NIST SP800-53 r4 Control set with JSIG baseline.\n",
      " Containing 256 controls and 653 control enhancements.\n"
     ]
    }
   ],
   "source": [
    "acme_ltd_SAP_controls.load_baseline(baseline_jsig)\n",
    "print(acme_ltd_SAP_controls)"
   ]
  },
  {
   "cell_type": "markdown",
   "metadata": {},
   "source": [
    "You can see some controls have been removed by the baseline."
   ]
  },
  {
   "cell_type": "markdown",
   "metadata": {},
   "source": [
    "## Set Options\n",
    "\n",
    "You can then configure your options with the get_outstanding_options and set_option methods.\n",
    "You can repeat over the next two cells until you have set all options, as which point you will get an index out of range error, as there will be no further options to set."
   ]
  },
  {
   "cell_type": "code",
   "execution_count": 5,
   "metadata": {},
   "outputs": [
    {
     "name": "stdout",
     "output_type": "stream",
     "text": [
      "AC-1\n",
      "AC-1a_Option1\n"
     ]
    },
    {
     "data": {
      "text/html": [
       "<!DOCTYPE html>\n",
       "        <html>\n",
       "        <head>\n",
       "            <meta charset=\"UTF-8\">\n",
       "            <title>AC-1 - ACCESS CONTROL POLICY AND PROCEDURES</title>\n",
       "            \n",
       "        </head>\n",
       "        <body>\n",
       "            <h1>AC-1: ACCESS CONTROL POLICY AND PROCEDURES</h1> \n",
       "            <div class=\"section\" id=\"description\">\n",
       "                <h2>Control Description</h2>\n",
       "                <p>The organization:</p>\n",
       "<ol>\n",
       "<li>\n",
       "<strong>AC-1a.</strong> Develops, documents, and disseminates to [Assignment: organization-defined personnel or roles]:\n",
       "<ol>\n",
       "<li>\n",
       "<strong>AC-1a.1.</strong> An access control policy that addresses purpose, scope, roles, responsibilities, management commitment, coordination among organizational entities, and compliance; and\n",
       "</li>\n",
       "<li>\n",
       "<strong>AC-1a.2.</strong> Procedures to facilitate the implementation of the access control policy and associated access controls; and\n",
       "</li>\n",
       "</ol>\n",
       "</li>\n",
       "<li>\n",
       "<strong>AC-1b.</strong> Reviews and updates the current:\n",
       "<ol>\n",
       "<li>\n",
       "<strong>AC-1b.1.</strong> Access control policy [Assignment: organization-defined frequency]; and\n",
       "</li>\n",
       "<li>\n",
       "<strong>AC-1b.2.</strong> Access control procedures [Assignment: organization-defined frequency].\n",
       "</li>\n",
       "</ol>\n",
       "</li>\n",
       "</ol>\n",
       "\n",
       "            </div>\n",
       "            \n",
       "            \n",
       "            \n",
       "            \n",
       "            \n",
       "            \n",
       "            \n",
       "        <div class=\"section\" id=\"baselines\">\n",
       "            <h2>Baselines</h2>\n",
       "            <p>LOW, MODERATE, HIGH</p>\n",
       "        </div>\n",
       "        \n",
       "        </body>\n",
       "        </html>\n",
       "        "
      ],
      "text/plain": [
       "<IPython.core.display.HTML object>"
      ]
     },
     "execution_count": 5,
     "metadata": {},
     "output_type": "execute_result"
    }
   ],
   "source": [
    "next_option = acme_ltd_SAP_controls.get_outstanding_options()[0]\n",
    "option_id = next_option['id']\n",
    "control_id = next_option['control_id']\n",
    "\n",
    "print(control_id)\n",
    "print(option_id)\n",
    "HTML(acme_ltd_SAP_controls.controls[control_id].get_control_html())"
   ]
  },
  {
   "cell_type": "code",
   "execution_count": 6,
   "metadata": {},
   "outputs": [],
   "source": [
    "new_option_text = input()\n",
    "acme_ltd_SAP_controls.controls[control_id].set_option(option_id, new_option_text)"
   ]
  },
  {
   "cell_type": "markdown",
   "metadata": {},
   "source": [
    "## View Your Controls\n",
    "\n",
    "You can then use the get_control_text, get_control_markdown or get_control_html methods to view your formatted controls, and use the output for a document, pdf or internal Wiki."
   ]
  },
  {
   "cell_type": "code",
   "execution_count": 7,
   "metadata": {},
   "outputs": [
    {
     "name": "stdout",
     "output_type": "stream",
     "text": [
      "The organization:\n",
      "    AC-1a.   Develops, documents, and disseminates to TEST TEXT:\n",
      "        AC-1a.1.     An access control policy that addresses purpose, scope, roles, responsibilities, management commitment, coordination among organizational entities, and compliance; and\n",
      "        AC-1a.2.     Procedures to facilitate the implementation of the access control policy and associated access controls; and\n",
      "    AC-1b.   Reviews and updates the current:\n",
      "        AC-1b.1.     Access control policy [Assignment: organization-defined frequency]; and\n",
      "        AC-1b.2.     Access control procedures [Assignment: organization-defined frequency].\n",
      "\n"
     ]
    }
   ],
   "source": [
    "print(acme_ltd_SAP_controls.controls['AC-1'].get_control_text())"
   ]
  },
  {
   "cell_type": "code",
   "execution_count": 8,
   "metadata": {},
   "outputs": [
    {
     "name": "stdout",
     "output_type": "stream",
     "text": [
      "    - **AC-1a.** Develops, documents, and disseminates to TEST TEXT:\n",
      "        - **AC-1a.1.** An access control policy that addresses purpose, scope, roles, responsibilities, management commitment, coordination among organizational entities, and compliance; and\n",
      "        - **AC-1a.2.** Procedures to facilitate the implementation of the access control policy and associated access controls; and\n",
      "    - **AC-1b.** Reviews and updates the current:\n",
      "        - **AC-1b.1.** Access control policy [Assignment: organization-defined frequency]; and\n",
      "        - **AC-1b.2.** Access control procedures [Assignment: organization-defined frequency].\n",
      "\n"
     ]
    }
   ],
   "source": [
    "print(acme_ltd_SAP_controls.controls['AC-1'].get_control_markdown())"
   ]
  },
  {
   "cell_type": "code",
   "execution_count": 10,
   "metadata": {},
   "outputs": [
    {
     "data": {
      "text/html": [
       "<!DOCTYPE html>\n",
       "        <html>\n",
       "        <head>\n",
       "            <meta charset=\"UTF-8\">\n",
       "            <title>AC-1 - ACCESS CONTROL POLICY AND PROCEDURES</title>\n",
       "            \n",
       "        </head>\n",
       "        <body>\n",
       "            <h1>AC-1: ACCESS CONTROL POLICY AND PROCEDURES</h1> \n",
       "            <div class=\"section\" id=\"description\">\n",
       "                <h2>Control Description</h2>\n",
       "                <p>The organization:</p>\n",
       "<ol>\n",
       "<li>\n",
       "<strong>AC-1a.</strong> Develops, documents, and disseminates to TEST TEXT:\n",
       "<ol>\n",
       "<li>\n",
       "<strong>AC-1a.1.</strong> An access control policy that addresses purpose, scope, roles, responsibilities, management commitment, coordination among organizational entities, and compliance; and\n",
       "</li>\n",
       "<li>\n",
       "<strong>AC-1a.2.</strong> Procedures to facilitate the implementation of the access control policy and associated access controls; and\n",
       "</li>\n",
       "</ol>\n",
       "</li>\n",
       "<li>\n",
       "<strong>AC-1b.</strong> Reviews and updates the current:\n",
       "<ol>\n",
       "<li>\n",
       "<strong>AC-1b.1.</strong> Access control policy [Assignment: organization-defined frequency]; and\n",
       "</li>\n",
       "<li>\n",
       "<strong>AC-1b.2.</strong> Access control procedures [Assignment: organization-defined frequency].\n",
       "</li>\n",
       "</ol>\n",
       "</li>\n",
       "</ol>\n",
       "\n",
       "            </div>\n",
       "            \n",
       "            \n",
       "            \n",
       "            \n",
       "            \n",
       "            \n",
       "            \n",
       "        <div class=\"section\" id=\"baselines\">\n",
       "            <h2>Baselines</h2>\n",
       "            <p>LOW, MODERATE, HIGH</p>\n",
       "        </div>\n",
       "        \n",
       "        </body>\n",
       "        </html>\n",
       "        "
      ],
      "text/plain": [
       "<IPython.core.display.HTML object>"
      ]
     },
     "execution_count": 10,
     "metadata": {},
     "output_type": "execute_result"
    }
   ],
   "source": [
    "HTML(acme_ltd_SAP_controls.controls['AC-1'].get_control_html())"
   ]
  },
  {
   "cell_type": "markdown",
   "metadata": {},
   "source": [
    "## Export Controls as HTML Document Set\n",
    "\n",
    "You export the controls locally as an set of HTML documents. You cna add an optional scc style sheet. "
   ]
  },
  {
   "cell_type": "code",
   "execution_count": 9,
   "metadata": {},
   "outputs": [],
   "source": [
    "acme_ltd_SAP_controls.export_html_docset(stylesheet_path=\"example_stylesheet.css\", output_path=\"example_docs\")"
   ]
  }
 ],
 "metadata": {
  "kernelspec": {
   "display_name": "NIST_SP800-53-wkA-0P5B",
   "language": "python",
   "name": "python3"
  },
  "language_info": {
   "codemirror_mode": {
    "name": "ipython",
    "version": 3
   },
   "file_extension": ".py",
   "mimetype": "text/x-python",
   "name": "python",
   "nbconvert_exporter": "python",
   "pygments_lexer": "ipython3",
   "version": "3.9.16"
  }
 },
 "nbformat": 4,
 "nbformat_minor": 2
}
