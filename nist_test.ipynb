{
 "cells": [
  {
   "cell_type": "code",
   "execution_count": 1,
   "metadata": {},
   "outputs": [
    {
     "name": "stdout",
     "output_type": "stream",
     "text": [
      "{'AC-1': [], 'AC-2': [], 'AC-3': [], 'AC-7': [], 'AC-8': [], 'AC-14': [], 'AC-17': [], 'AC-18': [], 'AC-19': [], 'AC-20': [], 'AC-22': [], 'AT-1': [], 'AT-2': [], 'AT-3': [], 'AT-4': [], 'AU-1': [], 'AU-2': [], 'AU-3': [], 'AU-4': [], 'AU-5': [], 'AU-6': [], 'AU-8': [], 'AU-9': [], 'AU-11': [], 'AU-12': [], 'CA-1': [], 'CA-2': [], 'CA-3': [], 'CA-5': [], 'CA-6': [], 'CA-7': [], 'CA-9': [], 'CM-1': [], 'CM-2': [], 'CM-4': [], 'CM-6': [], 'CM-7': [], 'CM-8': [], 'CM-10': [], 'CM-11': [], 'CP-1': [], 'CP-2': [], 'CP-3': [], 'CP-4': [], 'CP-9': [], 'CP-10': [], 'IA-1': [], 'IA-2': ['IA-2 (1)', 'IA-2 (12)'], 'IA-4': [], 'IA-5': ['IA-5 (1)', 'IA-5 (11)'], 'IA-6': [], 'IA-7': [], 'IA-8': ['IA-8 (1)', 'IA-8 (2)', 'IA-8 (3)', 'IA-8 (4)'], 'IR-1': [], 'IR-2': [], 'IR-4': [], 'IR-5': [], 'IR-6': [], 'IR-7': [], 'IR-8': [], 'MA-1': [], 'MA-2': [], 'MA-4': [], 'MA-5': [], 'MP-1': [], 'MP-2': [], 'MP-6': [], 'MP-7': [], 'PE-1': [], 'PE-2': [], 'PE-3': [], 'PE-6': [], 'PE-8': [], 'PE-12': [], 'PE-13': [], 'PE-14': [], 'PE-15': [], 'PE-16': [], 'PL-1': [], 'PL-2': [], 'PL-4': [], 'PS-1': [], 'PS-2': [], 'PS-3': [], 'PS-4': [], 'PS-5': [], 'PS-6': [], 'PS-7': [], 'PS-8': [], 'RA-1': [], 'RA-2': [], 'RA-3': [], 'RA-5': [], 'SA-1': [], 'SA-2': [], 'SA-3': [], 'SA-4': ['SA-4 (10)'], 'SA-5': [], 'SA-9': [], 'SC-1': [], 'SC-5': [], 'SC-7': [], 'SC-12': [], 'SC-13': [], 'SC-15': [], 'SC-20': [], 'SC-21': [], 'SC-22': [], 'SC-39': [], 'SI-1': [], 'SI-2': [], 'SI-3': [], 'SI-4': [], 'SI-5': [], 'SI-12': []}\n",
      "{'AC-1': [], 'AC-2': [], 'AC-3': [], 'AC-7': [], 'AC-8': [], 'AC-14': [], 'AC-17': [], 'AC-18': [], 'AC-19': [], 'AC-20': [], 'AC-22': [], 'AT-1': [], 'AT-2': [], 'AT-3': [], 'AT-4': [], 'AU-1': [], 'AU-2': [], 'AU-3': [], 'AU-4': [], 'AU-5': [], 'AU-6': [], 'AU-8': [], 'AU-9': [], 'AU-11': [], 'AU-12': [], 'CA-1': [], 'CA-2': [], 'CA-3': [], 'CA-5': [], 'CA-6': [], 'CA-7': [], 'CA-9': [], 'CM-1': [], 'CM-2': [], 'CM-4': [], 'CM-5': [], 'CM-6': [], 'CM-7': [], 'CM-8': [], 'CM-10': [], 'CM-11': [], 'CP-1': [], 'CP-2': [], 'CP-3': [], 'CP-4': [], 'CP-9': [], 'CP-10': [], 'IA-1': [], 'IA-2': [], 'IA-4': [], 'IA-5': [], 'IA-6': [], 'IA-7': [], 'IA-8': [], 'IA-11': [], 'IR-1': [], 'IR-2': [], 'IR-4': [], 'IR-5': [], 'IR-6': [], 'IR-7': [], 'IR-8': [], 'MA-1': [], 'MA-2': [], 'MA-4': [], 'MA-5': [], 'MP-1': [], 'MP-2': [], 'MP-6': [], 'MP-7': [], 'PE-1': [], 'PE-2': [], 'PE-3': [], 'PE-6': [], 'PE-8': [], 'PE-12': [], 'PE-13': [], 'PE-14': [], 'PE-15': [], 'PE-16': [], 'PL-1': [], 'PL-2': [], 'PL-4': [], 'PL-10': [], 'PL-11': [], 'PS-1': [], 'PS-2': [], 'PS-3': [], 'PS-4': [], 'PS-5': [], 'PS-6': [], 'PS-7': [], 'PS-8': [], 'PS-9': [], 'RA-1': [], 'RA-2': [], 'RA-3': [], 'RA-5': [], 'RA-7': [], 'SA-1': [], 'SA-2': [], 'SA-3': [], 'SA-4': [], 'SA-5': [], 'SA-8': [], 'SA-9': [], 'SA-22': [], 'SC-1': [], 'SC-5': [], 'SC-7': [], 'SC-12': [], 'SC-13': [], 'SC-15': [], 'SC-20': [], 'SC-21': [], 'SC-22': [], 'SC-39': [], 'SI-1': [], 'SI-2': [], 'SI-3': [], 'SI-4': [], 'SI-5': [], 'SI-12': [], 'SR-1': [], 'SR-2': [], 'SR-3': [], 'SR-5': [], 'SR-8': [], 'SR-10': [], 'SR-11': [], 'SR-12': []}\n"
     ]
    }
   ],
   "source": [
    "\n",
    "from nistsp800_53 import Nist_sp_800_53_r4, Nist_sp_800_53_r5,Baseline\n",
    "from baselines import *"
   ]
  },
  {
   "cell_type": "code",
   "execution_count": 2,
   "metadata": {},
   "outputs": [],
   "source": [
    "r4 = Nist_sp_800_53_r4()"
   ]
  },
  {
   "cell_type": "code",
   "execution_count": 3,
   "metadata": {},
   "outputs": [],
   "source": [
    "r5 = Nist_sp_800_53_r5()"
   ]
  },
  {
   "cell_type": "code",
   "execution_count": 4,
   "metadata": {},
   "outputs": [
    {
     "data": {
      "text/plain": [
       "[1, 2, 3, 4]"
      ]
     },
     "execution_count": 4,
     "metadata": {},
     "output_type": "execute_result"
    }
   ],
   "source": [
    "[1,2] + [3,4]"
   ]
  },
  {
   "cell_type": "code",
   "execution_count": 5,
   "metadata": {},
   "outputs": [
    {
     "data": {
      "text/plain": [
       "family: ACCESS CONTROL\n",
       "number: AC-1\n",
       "title: ACCESS CONTROL POLICY AND PROCEDURES\n",
       "baseline-impact: ['LOW', 'MODERATE', 'HIGH']\n",
       "statement: {'description': 'The organization:', 'statement': [{'number': 'AC-1a.', 'description': 'Develops, documents, and disseminates to {AC-1a_Option1}:', 'statement': [{'number': 'AC-1a.1.', 'description': 'An access control policy that addresses purpose, scope, roles, responsibilities, management commitment, coordination among organizational entities, and compliance; and'}, {'number': 'AC-1a.2.', 'description': 'Procedures to facilitate the implementation of the access control policy and associated access controls; and'}]}, {'number': 'AC-1b.', 'description': 'Reviews and updates the current:', 'statement': [{'number': 'AC-1b.1.', 'description': 'Access control policy {AC-1b1_Option1}; and'}, {'number': 'AC-1b.2.', 'description': 'Access control procedures {AC-1b2_Option1}.'}]}], 'options': {}}\n",
       "supplemental-guidance: {'description': 'This control addresses the establishment of policy and procedures for the effective implementation of selected security controls and control enhancements in the AC family. Policy and procedures reflect applicable federal laws, Executive Orders, directives, regulations, policies, standards, and guidance. Security program policies and procedures at the organization level may make the need for system-specific policies and procedures unnecessary. The policy can be included as part of the general information security policy for organizations or conversely, can be represented by multiple policies reflecting the complex nature of certain organizations. The procedures can be established for the security program in general and for particular information systems, if needed. The organizational risk management strategy is a key factor in establishing policy and procedures.', 'related': 'PM-9'}\n",
       "control-enhancements: {}\n",
       "related: None"
      ]
     },
     "execution_count": 5,
     "metadata": {},
     "output_type": "execute_result"
    }
   ],
   "source": [
    "r4.controls['AC-1']"
   ]
  },
  {
   "cell_type": "code",
   "execution_count": 6,
   "metadata": {},
   "outputs": [
    {
     "data": {
      "text/plain": [
       "family: ACCESS CONTROL\n",
       "number: AC-1\n",
       "title: POLICY AND PROCEDURES\n",
       "baseline-impact: ['LOW', 'MODERATE', 'HIGH', 'PRIVACY']\n",
       "statement: {'statement': [{'number': 'AC-1a.', 'description': 'Develop, document, and disseminate to {AC-1a_Option1}:', 'statement': [{'number': 'AC-1a.1.', 'description': '{AC-1a1_Option1} access control policy that:', 'statement': [{'number': 'AC-1a.1.(a)', 'description': 'Addresses purpose, scope, roles, responsibilities, management commitment, coordination among organizational entities, and compliance; and'}, {'number': 'AC-1a.1.(b)', 'description': 'Is consistent with applicable laws, executive orders, directives, regulations, policies, standards, and guidelines; and'}]}, {'number': 'AC-1a.2.', 'description': 'Procedures to facilitate the implementation of the access control policy and the associated access controls;'}]}, {'number': 'AC-1b.', 'description': 'Designate an {AC-1b_Option1} to manage the development, documentation, and dissemination of the access control policy and procedures; and'}, {'number': 'AC-1c.', 'description': 'Review and update the current access control:', 'statement': [{'number': 'AC-1c.1.', 'description': 'Policy {AC-1c1_Option1} and following {AC-1c1_Option2}; and'}, {'number': 'AC-1c.2.', 'description': 'Procedures {AC-1c2_Option1} and following {AC-1c2_Option2}.'}]}], 'options': {}}\n",
       "supplemental-guidance: None\n",
       "control-enhancements: {}\n",
       "related: ['IA-1', 'PM-9', 'PM-24', 'PS-8', 'SI-12']"
      ]
     },
     "execution_count": 6,
     "metadata": {},
     "output_type": "execute_result"
    }
   ],
   "source": [
    "r5.controls['AC-1']"
   ]
  },
  {
   "cell_type": "code",
   "execution_count": 7,
   "metadata": {},
   "outputs": [],
   "source": [
    "official_library = Nist_sp_800_53_r5()"
   ]
  },
  {
   "cell_type": "code",
   "execution_count": 8,
   "metadata": {},
   "outputs": [
    {
     "data": {
      "text/plain": [
       "NIST SP800-53 r5 Control set with All controls baseline.\n",
       " Containing 322 controls and 867 control enhancements."
      ]
     },
     "execution_count": 8,
     "metadata": {},
     "output_type": "execute_result"
    }
   ],
   "source": [
    "official_library"
   ]
  },
  {
   "cell_type": "code",
   "execution_count": 9,
   "metadata": {},
   "outputs": [],
   "source": [
    "official_library.load_baseline(baseline_nist_sp_800_53_r5_low)"
   ]
  },
  {
   "cell_type": "code",
   "execution_count": 10,
   "metadata": {},
   "outputs": [
    {
     "data": {
      "text/plain": [
       "{'AC-1': [],\n",
       " 'AC-2': [],\n",
       " 'AC-3': [],\n",
       " 'AC-7': [],\n",
       " 'AC-8': [],\n",
       " 'AC-14': [],\n",
       " 'AC-17': [],\n",
       " 'AC-18': [],\n",
       " 'AC-19': [],\n",
       " 'AC-20': [],\n",
       " 'AC-22': [],\n",
       " 'AT-1': [],\n",
       " 'AT-2': [],\n",
       " 'AT-3': [],\n",
       " 'AT-4': [],\n",
       " 'AU-1': [],\n",
       " 'AU-2': [],\n",
       " 'AU-3': [],\n",
       " 'AU-4': [],\n",
       " 'AU-5': [],\n",
       " 'AU-6': [],\n",
       " 'AU-8': [],\n",
       " 'AU-9': [],\n",
       " 'AU-11': [],\n",
       " 'AU-12': [],\n",
       " 'CA-1': [],\n",
       " 'CA-2': [],\n",
       " 'CA-3': [],\n",
       " 'CA-5': [],\n",
       " 'CA-6': [],\n",
       " 'CA-7': [],\n",
       " 'CA-9': [],\n",
       " 'CM-1': [],\n",
       " 'CM-2': [],\n",
       " 'CM-4': [],\n",
       " 'CM-5': [],\n",
       " 'CM-6': [],\n",
       " 'CM-7': [],\n",
       " 'CM-8': [],\n",
       " 'CM-10': [],\n",
       " 'CM-11': [],\n",
       " 'CP-1': [],\n",
       " 'CP-2': [],\n",
       " 'CP-3': [],\n",
       " 'CP-4': [],\n",
       " 'CP-9': [],\n",
       " 'CP-10': [],\n",
       " 'IA-1': [],\n",
       " 'IA-2': [],\n",
       " 'IA-4': [],\n",
       " 'IA-5': [],\n",
       " 'IA-6': [],\n",
       " 'IA-7': [],\n",
       " 'IA-8': [],\n",
       " 'IA-11': [],\n",
       " 'IR-1': [],\n",
       " 'IR-2': [],\n",
       " 'IR-4': [],\n",
       " 'IR-5': [],\n",
       " 'IR-6': [],\n",
       " 'IR-7': [],\n",
       " 'IR-8': [],\n",
       " 'MA-1': [],\n",
       " 'MA-2': [],\n",
       " 'MA-4': [],\n",
       " 'MA-5': [],\n",
       " 'MP-1': [],\n",
       " 'MP-2': [],\n",
       " 'MP-6': [],\n",
       " 'MP-7': [],\n",
       " 'PE-1': [],\n",
       " 'PE-2': [],\n",
       " 'PE-3': [],\n",
       " 'PE-6': [],\n",
       " 'PE-8': [],\n",
       " 'PE-12': [],\n",
       " 'PE-13': [],\n",
       " 'PE-14': [],\n",
       " 'PE-15': [],\n",
       " 'PE-16': [],\n",
       " 'PL-1': [],\n",
       " 'PL-2': [],\n",
       " 'PL-4': [],\n",
       " 'PL-10': [],\n",
       " 'PL-11': [],\n",
       " 'PS-1': [],\n",
       " 'PS-2': [],\n",
       " 'PS-3': [],\n",
       " 'PS-4': [],\n",
       " 'PS-5': [],\n",
       " 'PS-6': [],\n",
       " 'PS-7': [],\n",
       " 'PS-8': [],\n",
       " 'PS-9': [],\n",
       " 'RA-1': [],\n",
       " 'RA-2': [],\n",
       " 'RA-3': [],\n",
       " 'RA-5': [],\n",
       " 'RA-7': [],\n",
       " 'SA-1': [],\n",
       " 'SA-2': [],\n",
       " 'SA-3': [],\n",
       " 'SA-4': [],\n",
       " 'SA-5': [],\n",
       " 'SA-8': [],\n",
       " 'SA-9': [],\n",
       " 'SA-22': [],\n",
       " 'SC-1': [],\n",
       " 'SC-5': [],\n",
       " 'SC-7': [],\n",
       " 'SC-12': [],\n",
       " 'SC-13': [],\n",
       " 'SC-15': [],\n",
       " 'SC-20': [],\n",
       " 'SC-21': [],\n",
       " 'SC-22': [],\n",
       " 'SC-39': [],\n",
       " 'SI-1': [],\n",
       " 'SI-2': [],\n",
       " 'SI-3': [],\n",
       " 'SI-4': [],\n",
       " 'SI-5': [],\n",
       " 'SI-12': [],\n",
       " 'SR-1': [],\n",
       " 'SR-2': [],\n",
       " 'SR-3': [],\n",
       " 'SR-5': [],\n",
       " 'SR-8': [],\n",
       " 'SR-10': [],\n",
       " 'SR-11': [],\n",
       " 'SR-12': []}"
      ]
     },
     "execution_count": 10,
     "metadata": {},
     "output_type": "execute_result"
    }
   ],
   "source": [
    "baseline_nist_sp_800_53_r5_low.controls"
   ]
  },
  {
   "cell_type": "code",
   "execution_count": 11,
   "metadata": {},
   "outputs": [
    {
     "data": {
      "text/plain": [
       "NIST SP800-53 r5 Control set with Low baseline.\n",
       " Containing 131 controls and 0 control enhancements."
      ]
     },
     "execution_count": 11,
     "metadata": {},
     "output_type": "execute_result"
    }
   ],
   "source": [
    "official_library"
   ]
  },
  {
   "cell_type": "code",
   "execution_count": 12,
   "metadata": {},
   "outputs": [
    {
     "data": {
      "text/plain": [
       "NIST SP800-53 r4 Control set with All controls baseline.\n",
       " Containing 256 controls and 666 control enhancements."
      ]
     },
     "execution_count": 12,
     "metadata": {},
     "output_type": "execute_result"
    }
   ],
   "source": [
    "r4"
   ]
  },
  {
   "cell_type": "code",
   "execution_count": 13,
   "metadata": {},
   "outputs": [],
   "source": [
    "from baselines import baseline_nist_sp_800_53_r4_high"
   ]
  },
  {
   "cell_type": "code",
   "execution_count": 14,
   "metadata": {},
   "outputs": [],
   "source": [
    "r4.load_baseline(baseline_nist_sp_800_53_r4_high)"
   ]
  },
  {
   "cell_type": "code",
   "execution_count": 15,
   "metadata": {},
   "outputs": [
    {
     "data": {
      "text/plain": [
       "NIST SP800-53 r4 Control set with High baseline.\n",
       " Containing 159 controls and 99 control enhancements."
      ]
     },
     "execution_count": 15,
     "metadata": {},
     "output_type": "execute_result"
    }
   ],
   "source": [
    "r4"
   ]
  },
  {
   "cell_type": "code",
   "execution_count": 16,
   "metadata": {},
   "outputs": [
    {
     "data": {
      "text/plain": [
       "{'AC-1': [],\n",
       " 'AC-2': ['AC-2 (1)', 'AC-2 (2)', 'AC-2 (3)', 'AC-2 (4)'],\n",
       " 'AC-3': [],\n",
       " 'AC-4': [],\n",
       " 'AC-5': [],\n",
       " 'AC-6': ['AC-6 (1)', 'AC-6 (2)', 'AC-6 (5)', 'AC-6 (9)', 'AC-6 (10)'],\n",
       " 'AC-7': [],\n",
       " 'AC-8': [],\n",
       " 'AC-11': [],\n",
       " 'AC-12': [],\n",
       " 'AC-14': [],\n",
       " 'AC-17': ['AC-17 (1)', 'AC-17 (2)', 'AC-17 (3)', 'AC-17 (4)'],\n",
       " 'AC-18': ['AC-18 (1)'],\n",
       " 'AC-19': ['AC-19 (5)'],\n",
       " 'AC-20': ['AC-20 (1)', 'AC-20 (2)'],\n",
       " 'AC-21': [],\n",
       " 'AC-22': [],\n",
       " 'AT-1': [],\n",
       " 'AT-2': ['AT-2 (2)'],\n",
       " 'AT-3': [],\n",
       " 'AT-4': [],\n",
       " 'AU-1': [],\n",
       " 'AU-2': ['AU-2 (3)'],\n",
       " 'AU-3': ['AU-3 (1)'],\n",
       " 'AU-4': [],\n",
       " 'AU-5': [],\n",
       " 'AU-6': ['AU-6 (1)', 'AU-6 (3)'],\n",
       " 'AU-7': ['AU-7 (1)'],\n",
       " 'AU-8': ['AU-8 (1)'],\n",
       " 'AU-9': ['AU-9 (4)'],\n",
       " 'AU-11': [],\n",
       " 'AU-12': [],\n",
       " 'CA-1': [],\n",
       " 'CA-2': ['CA-2 (1)'],\n",
       " 'CA-3': ['CA-3 (5)'],\n",
       " 'CA-5': [],\n",
       " 'CA-6': [],\n",
       " 'CA-7': ['CA-7 (1)'],\n",
       " 'CA-9': [],\n",
       " 'CM-1': [],\n",
       " 'CM-2': ['CM-2 (1)', 'CM-2 (3)', 'CM-2 (7)'],\n",
       " 'CM-3': ['CM-3 (2)'],\n",
       " 'CM-4': [],\n",
       " 'CM-5': [],\n",
       " 'CM-6': [],\n",
       " 'CM-7': ['CM-7 (1)', 'CM-7 (2)'],\n",
       " 'CM-8': ['CM-8 (1)', 'CM-8 (3)', 'CM-8 (5)'],\n",
       " 'CM-9': [],\n",
       " 'CM-10': [],\n",
       " 'CM-11': [],\n",
       " 'CP-1': [],\n",
       " 'CP-2': ['CP-2 (1)', 'CP-2 (3)', 'CP-2 (8)'],\n",
       " 'CP-3': [],\n",
       " 'CP-4': ['CP-4 (1)'],\n",
       " 'CP-6': ['CP-6 (1)', 'CP-6 (3)'],\n",
       " 'CP-7': ['CP-7 (1)', 'CP-7 (2)', 'CP-7 (3)'],\n",
       " 'CP-8': ['CP-8 (1)', 'CP-8 (2)'],\n",
       " 'CP-9': ['CP-9 (1)'],\n",
       " 'CP-10': ['CP-10 (2)'],\n",
       " 'IA-1': [],\n",
       " 'IA-2': ['IA-2 (1)',\n",
       "  'IA-2 (2)',\n",
       "  'IA-2 (3)',\n",
       "  'IA-2 (8)',\n",
       "  'IA-2 (11)',\n",
       "  'IA-2 (12)'],\n",
       " 'IA-3': [],\n",
       " 'IA-4': [],\n",
       " 'IA-5': ['IA-5 (1)', 'IA-5 (2)', 'IA-5 (3)', 'IA-5 (11)'],\n",
       " 'IA-6': [],\n",
       " 'IA-7': [],\n",
       " 'IA-8': ['IA-8 (1)', 'IA-8 (2)', 'IA-8 (3)', 'IA-8 (4)'],\n",
       " 'IR-1': [],\n",
       " 'IR-2': [],\n",
       " 'IR-3': ['IR-3 (2)'],\n",
       " 'IR-4': ['IR-4 (1)'],\n",
       " 'IR-5': [],\n",
       " 'IR-6': ['IR-6 (1)'],\n",
       " 'IR-7': ['IR-7 (1)'],\n",
       " 'IR-8': [],\n",
       " 'MA-1': [],\n",
       " 'MA-2': [],\n",
       " 'MA-3': ['MA-3 (1)', 'MA-3 (2)'],\n",
       " 'MA-4': ['MA-4 (2)'],\n",
       " 'MA-5': [],\n",
       " 'MA-6': [],\n",
       " 'MP-1': [],\n",
       " 'MP-2': [],\n",
       " 'MP-3': [],\n",
       " 'MP-4': [],\n",
       " 'MP-5': ['MP-5 (4)'],\n",
       " 'MP-6': [],\n",
       " 'MP-7': ['MP-7 (1)'],\n",
       " 'PE-1': [],\n",
       " 'PE-2': [],\n",
       " 'PE-3': [],\n",
       " 'PE-4': [],\n",
       " 'PE-5': [],\n",
       " 'PE-6': ['PE-6 (1)'],\n",
       " 'PE-8': [],\n",
       " 'PE-9': [],\n",
       " 'PE-10': [],\n",
       " 'PE-11': [],\n",
       " 'PE-12': [],\n",
       " 'PE-13': ['PE-13 (3)'],\n",
       " 'PE-14': [],\n",
       " 'PE-15': [],\n",
       " 'PE-16': [],\n",
       " 'PE-17': [],\n",
       " 'PL-1': [],\n",
       " 'PL-2': ['PL-2 (3)'],\n",
       " 'PL-4': [],\n",
       " 'PL-8': [],\n",
       " 'PS-1': [],\n",
       " 'PS-2': [],\n",
       " 'PS-3': [],\n",
       " 'PS-4': [],\n",
       " 'PS-5': [],\n",
       " 'PS-6': [],\n",
       " 'PS-7': [],\n",
       " 'PS-8': [],\n",
       " 'RA-1': [],\n",
       " 'RA-2': [],\n",
       " 'RA-3': [],\n",
       " 'RA-5': ['RA-5 (1)', 'RA-5 (2)', 'RA-5 (5)'],\n",
       " 'SA-1': [],\n",
       " 'SA-2': [],\n",
       " 'SA-3': [],\n",
       " 'SA-4': ['SA-4 (1)', 'SA-4 (2)', 'SA-4 (9)', 'SA-4 (10)'],\n",
       " 'SA-5': [],\n",
       " 'SA-8': [],\n",
       " 'SA-9': ['SA-9 (2)'],\n",
       " 'SA-10': [],\n",
       " 'SA-11': [],\n",
       " 'SC-1': [],\n",
       " 'SC-2': [],\n",
       " 'SC-4': [],\n",
       " 'SC-5': [],\n",
       " 'SC-7': ['SC-7 (3)', 'SC-7 (4)', 'SC-7 (5)', 'SC-7 (7)'],\n",
       " 'SC-8': ['SC-8 (1)'],\n",
       " 'SC-10': [],\n",
       " 'SC-12': [],\n",
       " 'SC-13': [],\n",
       " 'SC-15': [],\n",
       " 'SC-17': [],\n",
       " 'SC-18': [],\n",
       " 'SC-19': [],\n",
       " 'SC-20': [],\n",
       " 'SC-21': [],\n",
       " 'SC-22': [],\n",
       " 'SC-23': [],\n",
       " 'SC-28': [],\n",
       " 'SC-39': [],\n",
       " 'SI-1': [],\n",
       " 'SI-2': ['SI-2 (2)'],\n",
       " 'SI-3': ['SI-3 (1)', 'SI-3 (2)'],\n",
       " 'SI-4': ['SI-4 (2)', 'SI-4 (4)', 'SI-4 (5)'],\n",
       " 'SI-5': [],\n",
       " 'SI-7': ['SI-7 (1)', 'SI-7 (7)'],\n",
       " 'SI-8': ['SI-8 (1)', 'SI-8 (2)'],\n",
       " 'SI-10': [],\n",
       " 'SI-11': [],\n",
       " 'SI-12': [],\n",
       " 'SI-16': []}"
      ]
     },
     "execution_count": 16,
     "metadata": {},
     "output_type": "execute_result"
    }
   ],
   "source": [
    "baseline_nist_sp_800_53_r4_high.controls"
   ]
  },
  {
   "cell_type": "code",
   "execution_count": 17,
   "metadata": {},
   "outputs": [],
   "source": [
    "leonardo_controls = Nist_sp_800_53_r5()"
   ]
  },
  {
   "cell_type": "code",
   "execution_count": 18,
   "metadata": {},
   "outputs": [],
   "source": [
    "ac_1 = leonardo_controls.controls['AC-1']"
   ]
  },
  {
   "cell_type": "code",
   "execution_count": 19,
   "metadata": {},
   "outputs": [],
   "source": [
    "ac_1 = leonardo_controls.controls['AC-1']"
   ]
  },
  {
   "cell_type": "code",
   "execution_count": 20,
   "metadata": {},
   "outputs": [],
   "source": [
    "def transform_dict(input_dict):\n",
    "    output_dict = {}\n",
    "    for key, nested_dict in input_dict.items():\n",
    "        # Only add the key to the output if 'thing 2' is not None\n",
    "        if nested_dict.get('answer') is not None:\n",
    "            output_dict[key] = nested_dict['answer']\n",
    "        # If 'thing 2' is None, skip this item and do not add to output_dict\n",
    "    return output_dict\n",
    "\n"
   ]
  }
 ],
 "metadata": {
  "kernelspec": {
   "display_name": "NIST_SP800-53-wkA-0P5B",
   "language": "python",
   "name": "python3"
  },
  "language_info": {
   "codemirror_mode": {
    "name": "ipython",
    "version": 3
   },
   "file_extension": ".py",
   "mimetype": "text/x-python",
   "name": "python",
   "nbconvert_exporter": "python",
   "pygments_lexer": "ipython3",
   "version": "3.9.16"
  }
 },
 "nbformat": 4,
 "nbformat_minor": 2
}
